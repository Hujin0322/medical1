{
 "cells": [
  {
   "cell_type": "markdown",
   "metadata": {},
   "source": [
    "### python 복습"
   ]
  },
  {
   "cell_type": "markdown",
   "metadata": {},
   "source": [
    "### Markdown 수식 작성\n",
    "    - LaTEX 태그로 작성 가능\n",
    "$$\n",
    "    \\begin{pmatrix}\n",
    "    1 & 2 & 3 \\\\\n",
    "    4 & 5 & 6 \\\\\n",
    "    \\end{pmatrix}\n",
    "    +\n",
    "    \\begin{pmatrix}\n",
    "    5 & 5 & 5 \\\\\n",
    "    5 & 5 & 5 \\\\\n",
    "    \\end{pmatrix}\n",
    "$$\n",
    "$$\n",
    "    \\begin{pmatrix}\n",
    "    1 & 2 & 3 \\\\\n",
    "    4 & 5 & 6 \\\\\n",
    "    \\end{pmatrix}\n",
    "    \\times\n",
    "    \\begin{pmatrix}\n",
    "    5 & 5 \\\\\n",
    "    5 & 5 \\\\\n",
    "    5 & 5 \\\\\n",
    "    \\end{pmatrix}\n",
    "$$"
   ]
  },
  {
   "cell_type": "markdown",
   "metadata": {},
   "source": [
    "### Numpy\n",
    "    - 데이터를 행렬로 표현 (영상 포함)\n",
    "    - 선형대수/ 통계 연산 위한 라이브러리\n",
    "    \n",
    "    Pandas: 데이터 분석에 가장 많이 활용\n",
    "    Numpy: 알고리즘 활용에 필수적 패키지 "
   ]
  },
  {
   "cell_type": "code",
   "execution_count": 1,
   "metadata": {},
   "outputs": [],
   "source": [
    "# 호출\n",
    "import numpy as np"
   ]
  },
  {
   "cell_type": "markdown",
   "metadata": {},
   "source": [
    "#### array broadcasting\n",
    "    - 차원이 다른 연산을 동일한 차원에 자동으로 변형시켜 연산을 가능하게 해주는 것\n",
    "    - 딥러닝에서 bias(편향) 계산 때 주로 사용"
   ]
  },
  {
   "cell_type": "code",
   "execution_count": 2,
   "metadata": {},
   "outputs": [
    {
     "data": {
      "text/plain": [
       "array([ 0.32307168,  0.47295344, -0.7088132 , -0.78252726,  0.37949795,\n",
       "        0.62483666, -0.38728484,  0.08627012, -0.32032156, -0.46011879])"
      ]
     },
     "execution_count": 2,
     "metadata": {},
     "output_type": "execute_result"
    }
   ],
   "source": [
    "# 초기 가중치 생성\n",
    "ary = np.array(np.random.randn(10)) # 표준정규분포를 따르는 난수 생성 -> 초기 가중치 생성 때 사용.\n",
    "ary"
   ]
  },
  {
   "cell_type": "code",
   "execution_count": 3,
   "metadata": {},
   "outputs": [
    {
     "data": {
      "text/plain": [
       "array([0.26122723])"
      ]
     },
     "execution_count": 3,
     "metadata": {},
     "output_type": "execute_result"
    }
   ],
   "source": [
    "# 편향값 생성\n",
    "bias = np.random.rand(1)\n",
    "bias"
   ]
  },
  {
   "cell_type": "code",
   "execution_count": 4,
   "metadata": {},
   "outputs": [
    {
     "data": {
      "text/plain": [
       "array([ 0.58429891,  0.73418067, -0.44758597, -0.52130003,  0.64072518,\n",
       "        0.88606389, -0.12605761,  0.34749735, -0.05909433, -0.19889156])"
      ]
     },
     "execution_count": 4,
     "metadata": {},
     "output_type": "execute_result"
    }
   ],
   "source": [
    "ary + bias # array broadcasting"
   ]
  },
  {
   "cell_type": "markdown",
   "metadata": {},
   "source": [
    "### 통계함수\n",
    "    - max, min, mean, median, var, std"
   ]
  },
  {
   "cell_type": "code",
   "execution_count": 6,
   "metadata": {},
   "outputs": [
    {
     "data": {
      "text/plain": [
       "(0.6248366569177282, -0.7825272576958506)"
      ]
     },
     "execution_count": 6,
     "metadata": {},
     "output_type": "execute_result"
    }
   ],
   "source": [
    "np.max(ary), np.min(ary) # min-max normalization때 사용 -> 데이터 정규화"
   ]
  },
  {
   "cell_type": "markdown",
   "metadata": {},
   "source": [
    "### Random 모듈\n",
    "    - seed: 랜덤 모듈의 규칙값, 난수 생성 환경 고정\n",
    "    - randint: 균등 분포로 정수 생성\n",
    "    - randn: 정규분포로 난수 생성\n",
    "    - shuffle: 무작위 섞기\n",
    "    - choice: 특정확률로 데이터 뽑기"
   ]
  },
  {
   "cell_type": "markdown",
   "metadata": {},
   "source": [
    "### seed"
   ]
  },
  {
   "cell_type": "code",
   "execution_count": 11,
   "metadata": {},
   "outputs": [],
   "source": [
    "seed = 603 # 머신러닝, 딥러닝에서 하이퍼파라미터로 사용\n",
    "\n",
    "np.random.seed(seed)\n",
    "r1 = np.random.rand(10)\n",
    "\n",
    "np.random.seed(1)\n",
    "r2 = np.random.rand(10)\n",
    "\n",
    "np.random.seed(seed)\n",
    "r3 = np.random.rand(10)"
   ]
  },
  {
   "cell_type": "code",
   "execution_count": 10,
   "metadata": {},
   "outputs": [
    {
     "data": {
      "text/plain": [
       "(array([0.06450168, 0.13338277, 0.10931622, 0.97127506, 0.85101842,\n",
       "        0.96534748, 0.99727133, 0.93093441, 0.48533923, 0.63427833]),\n",
       " array([4.17022005e-01, 7.20324493e-01, 1.14374817e-04, 3.02332573e-01,\n",
       "        1.46755891e-01, 9.23385948e-02, 1.86260211e-01, 3.45560727e-01,\n",
       "        3.96767474e-01, 5.38816734e-01]),\n",
       " array([0.06450168, 0.13338277, 0.10931622, 0.97127506, 0.85101842,\n",
       "        0.96534748, 0.99727133, 0.93093441, 0.48533923, 0.63427833]))"
      ]
     },
     "execution_count": 10,
     "metadata": {},
     "output_type": "execute_result"
    }
   ],
   "source": [
    "r1, r2, r3"
   ]
  },
  {
   "cell_type": "markdown",
   "metadata": {},
   "source": [
    "#### 머신러닝 예시\n",
    "    - scaling 처리 후 return 값으로 ndarray 타입 데이터로 출력"
   ]
  },
  {
   "cell_type": "code",
   "execution_count": 15,
   "metadata": {},
   "outputs": [],
   "source": [
    "from sklearn.preprocessing import MinMaxScaler # 데이터 정규화 = scaling 처리\n",
    "import pandas as pd\n",
    "\n",
    "X = np.random.randint(1, 100, 10).reshape(-1,2) # 5행 2열 데이터 생성\n",
    "df = pd.DataFrame(X)"
   ]
  },
  {
   "cell_type": "code",
   "execution_count": 17,
   "metadata": {},
   "outputs": [
    {
     "data": {
      "text/plain": [
       "(array([[0.07792208, 0.31707317],\n",
       "        [1.        , 0.34146341],\n",
       "        [0.88311688, 0.90243902],\n",
       "        [0.        , 0.        ],\n",
       "        [0.57142857, 1.        ]]),\n",
       " numpy.ndarray)"
      ]
     },
     "execution_count": 17,
     "metadata": {},
     "output_type": "execute_result"
    }
   ],
   "source": [
    "scaled_data = MinMaxScaler().fit_transform(df)\n",
    "scaled_data, type(scaled_data)"
   ]
  },
  {
   "cell_type": "markdown",
   "metadata": {},
   "source": [
    "### 머신러닝 예시\n",
    "- 초기값을 임의로 생성하여 zero 생성하여 대입할 때 다음과 같은 행렬을 작성하시오."
   ]
  },
  {
   "cell_type": "code",
   "execution_count": 18,
   "metadata": {},
   "outputs": [
    {
     "data": {
      "text/plain": [
       "array([[0., 0., 0., 0.],\n",
       "       [0., 0., 0., 0.],\n",
       "       [0., 0., 0., 0.],\n",
       "       [0., 0., 0., 0.]])"
      ]
     },
     "execution_count": 18,
     "metadata": {},
     "output_type": "execute_result"
    }
   ],
   "source": [
    "zero_ary = np.zeros((4,4))\n",
    "zero_ary"
   ]
  },
  {
   "cell_type": "code",
   "execution_count": 26,
   "metadata": {},
   "outputs": [
    {
     "data": {
      "text/plain": [
       "array([-0.66308499, -0.11570255, -0.0769512 ,  1.30625445])"
      ]
     },
     "execution_count": 26,
     "metadata": {},
     "output_type": "execute_result"
    }
   ],
   "source": [
    "rand = np.random.randn(4)\n",
    "rand"
   ]
  },
  {
   "cell_type": "code",
   "execution_count": 27,
   "metadata": {},
   "outputs": [
    {
     "data": {
      "text/plain": [
       "array([[-0.66308499,  0.        ,  0.        ,  0.        ],\n",
       "       [ 0.        , -0.11570255,  0.        ,  0.        ],\n",
       "       [ 0.        ,  0.        , -0.0769512 ,  0.        ],\n",
       "       [ 0.        ,  0.        ,  0.        ,  1.30625445]])"
      ]
     },
     "execution_count": 27,
     "metadata": {},
     "output_type": "execute_result"
    }
   ],
   "source": [
    "for i in range(4):\n",
    "    zero_ary[i][i] = rand[i]\n",
    "zero_ary"
   ]
  },
  {
   "cell_type": "code",
   "execution_count": 33,
   "metadata": {},
   "outputs": [
    {
     "data": {
      "text/plain": [
       "array([[ 1.49373501,  0.        ,  0.        ,  0.        ],\n",
       "       [ 0.        ,  0.06130062,  0.        ,  0.        ],\n",
       "       [ 0.        ,  0.        , -2.35909253,  0.        ],\n",
       "       [ 0.        ,  0.        ,  0.        ,  1.10284966]])"
      ]
     },
     "execution_count": 33,
     "metadata": {},
     "output_type": "execute_result"
    }
   ],
   "source": [
    "import numpy as np\n",
    "\n",
    "w = np.random.randn(4)\n",
    "shp = np.zeros((4,4))\n",
    "\n",
    "# 연결성 생각 (숫자 지정X)\n",
    "for i in range(shp.shape[0]):\n",
    "    for j in range(shp.shape[1]):\n",
    "        if i==j: shp[i][j] = w[i]\n",
    "shp"
   ]
  },
  {
   "cell_type": "code",
   "execution_count": 35,
   "metadata": {},
   "outputs": [
    {
     "data": {
      "text/plain": [
       "array([[0.6723856 , 0.        , 0.        , 0.        ],\n",
       "       [0.        , 0.30898822, 0.        , 0.        ],\n",
       "       [0.        , 0.        , 0.3045959 , 0.        ],\n",
       "       [0.        , 0.        , 0.        , 0.01266297]])"
      ]
     },
     "execution_count": 35,
     "metadata": {},
     "output_type": "execute_result"
    }
   ],
   "source": [
    "# 대각 행렬 생성\n",
    "import numpy as np\n",
    "diag_matrix = np.diag(np.random.rand(4))\n",
    "diag_matrix"
   ]
  },
  {
   "cell_type": "markdown",
   "metadata": {},
   "source": [
    "### Function\n",
    "- 반복성 줄이고 함수로 선언한 연산 재사용\n",
    "- 객체 지향 언어의 큰 장점 "
   ]
  },
  {
   "cell_type": "markdown",
   "metadata": {},
   "source": [
    "```python \n",
    "def 함수명(파라미터):\n",
    "    return 출력값\n",
    "```"
   ]
  },
  {
   "cell_type": "code",
   "execution_count": 42,
   "metadata": {},
   "outputs": [
    {
     "name": "stdout",
     "output_type": "stream",
     "text": [
      "603\n",
      "604\n",
      "603\n"
     ]
    }
   ],
   "source": [
    "# 리턴 선언 X 사용 경우 -> 함수가 연산 도구로만 사용될 때\n",
    "# 전역 변수, 지역 변수\n",
    "num = 603\n",
    "print(num)\n",
    "\n",
    "def today():\n",
    "    num = 604\n",
    "    print(num)\n",
    "\n",
    "today()\n",
    "\n",
    "print(num)"
   ]
  },
  {
   "cell_type": "code",
   "execution_count": 44,
   "metadata": {},
   "outputs": [
    {
     "name": "stdout",
     "output_type": "stream",
     "text": [
      "603\n",
      "604\n",
      "604\n"
     ]
    }
   ],
   "source": [
    "num = 603\n",
    "print(num)\n",
    "\n",
    "def today():\n",
    "    global num\n",
    "    \n",
    "    num = 604\n",
    "    print(num)\n",
    "\n",
    "today()\n",
    "print(num)"
   ]
  },
  {
   "cell_type": "markdown",
   "metadata": {},
   "source": [
    "#### map 함수와 pandas apply는 유사한 기능.\n",
    "- 순서가 있는 데이터값에 함수를 모두 적용하여 결과 출력하는 함수"
   ]
  },
  {
   "cell_type": "markdown",
   "metadata": {},
   "source": [
    "```phthon\n",
    "map(적용할 함수, 입력할 데이터)\n",
    "```"
   ]
  },
  {
   "cell_type": "code",
   "execution_count": 47,
   "metadata": {},
   "outputs": [
    {
     "data": {
      "text/plain": [
       "[1, 2, 3, 4, 5, 6]"
      ]
     },
     "execution_count": 47,
     "metadata": {},
     "output_type": "execute_result"
    }
   ],
   "source": [
    "num_txt = \"1 2 3 4 5 6\"\n",
    "num_int = list(map(int,num_txt.split(\" \")))\n",
    "num_int"
   ]
  },
  {
   "cell_type": "markdown",
   "metadata": {},
   "source": [
    "#### lambda 함수\n",
    "- 간단한 연산을 구현하여 일시적으로 사용하는 함수"
   ]
  },
  {
   "cell_type": "markdown",
   "metadata": {},
   "source": [
    "```python\n",
    "lambda 리턴: 연산\n",
    "```"
   ]
  },
  {
   "cell_type": "code",
   "execution_count": 51,
   "metadata": {},
   "outputs": [
    {
     "data": {
      "text/plain": [
       "(array([68, 37, 11, 95, 38, 48, 60, 63,  8, 78]),\n",
       " [22, 12, 3, 31, 12, 16, 20, 21, 2, 26])"
      ]
     },
     "execution_count": 51,
     "metadata": {},
     "output_type": "execute_result"
    }
   ],
   "source": [
    "seq = np.random.randint(1,101,10)\n",
    "q = list(map(lambda x: x//3, seq))\n",
    "\n",
    "seq, q"
   ]
  }
 ],
 "metadata": {
  "kernelspec": {
   "display_name": "Python 3",
   "language": "python",
   "name": "python3"
  },
  "language_info": {
   "codemirror_mode": {
    "name": "ipython",
    "version": 3
   },
   "file_extension": ".py",
   "mimetype": "text/x-python",
   "name": "python",
   "nbconvert_exporter": "python",
   "pygments_lexer": "ipython3",
   "version": "3.12.3"
  }
 },
 "nbformat": 4,
 "nbformat_minor": 2
}
