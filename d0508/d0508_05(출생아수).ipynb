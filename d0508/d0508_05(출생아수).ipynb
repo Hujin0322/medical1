{
 "cells": [
  {
   "cell_type": "code",
   "execution_count": 60,
   "metadata": {},
   "outputs": [
    {
     "name": "stderr",
     "output_type": "stream",
     "text": [
      "c:\\Python312\\Lib\\site-packages\\openpyxl\\styles\\stylesheet.py:226: UserWarning: Workbook contains no default style, apply openpyxl's default\n",
      "  warn(\"Workbook contains no default style, apply openpyxl's default\")\n"
     ]
    }
   ],
   "source": [
    "import pandas as pd\n",
    "df = pd.read_excel('20230103_인구.xlsx',skiprows=3,index_col='행정기관',usecols='B,E:Y')\n",
    "df[0:3]\n",
    "df.tail()\n",
    "df[df.columns[-1]]"
   ]
  },
  {
   "cell_type": "code",
   "execution_count": 63,
   "metadata": {},
   "outputs": [
    {
     "name": "stderr",
     "output_type": "stream",
     "text": [
      "c:\\Python312\\Lib\\site-packages\\openpyxl\\styles\\stylesheet.py:226: UserWarning: Workbook contains no default style, apply openpyxl's default\n",
      "  warn(\"Workbook contains no default style, apply openpyxl's default\")\n"
     ]
    },
    {
     "data": {
      "text/html": [
       "<div>\n",
       "<style scoped>\n",
       "    .dataframe tbody tr th:only-of-type {\n",
       "        vertical-align: middle;\n",
       "    }\n",
       "\n",
       "    .dataframe tbody tr th {\n",
       "        vertical-align: top;\n",
       "    }\n",
       "\n",
       "    .dataframe thead th {\n",
       "        text-align: right;\n",
       "    }\n",
       "</style>\n",
       "<table border=\"1\" class=\"dataframe\">\n",
       "  <thead>\n",
       "    <tr style=\"text-align: right;\">\n",
       "      <th></th>\n",
       "      <th>1970</th>\n",
       "      <th>1971</th>\n",
       "      <th>1972</th>\n",
       "      <th>1973</th>\n",
       "      <th>1974</th>\n",
       "      <th>1975</th>\n",
       "      <th>1976</th>\n",
       "      <th>1977</th>\n",
       "      <th>1978</th>\n",
       "      <th>1979</th>\n",
       "      <th>1980</th>\n",
       "    </tr>\n",
       "  </thead>\n",
       "  <tbody>\n",
       "    <tr>\n",
       "      <th>출생아수(명)</th>\n",
       "      <td>1,006,645</td>\n",
       "      <td>1,024,773</td>\n",
       "      <td>952,780</td>\n",
       "      <td>965,521</td>\n",
       "      <td>922,823</td>\n",
       "      <td>874,030</td>\n",
       "      <td>796,331</td>\n",
       "      <td>825,339</td>\n",
       "      <td>750,728</td>\n",
       "      <td>862,669</td>\n",
       "      <td>862,835</td>\n",
       "    </tr>\n",
       "    <tr>\n",
       "      <th>조출생률(인구1천명당 명)</th>\n",
       "      <td>31.2</td>\n",
       "      <td>31.2</td>\n",
       "      <td>28.4</td>\n",
       "      <td>28.3</td>\n",
       "      <td>26.6</td>\n",
       "      <td>24.8</td>\n",
       "      <td>22.2</td>\n",
       "      <td>22.7</td>\n",
       "      <td>20.3</td>\n",
       "      <td>23.0</td>\n",
       "      <td>22.6</td>\n",
       "    </tr>\n",
       "    <tr>\n",
       "      <th>합계출산율(가임여성1명당 명)</th>\n",
       "      <td>4.530</td>\n",
       "      <td>4.540</td>\n",
       "      <td>4.120</td>\n",
       "      <td>4.070</td>\n",
       "      <td>3.770</td>\n",
       "      <td>3.430</td>\n",
       "      <td>3.000</td>\n",
       "      <td>2.990</td>\n",
       "      <td>2.640</td>\n",
       "      <td>2.900</td>\n",
       "      <td>2.820</td>\n",
       "    </tr>\n",
       "  </tbody>\n",
       "</table>\n",
       "</div>"
      ],
      "text/plain": [
       "                       1970       1971     1972     1973     1974     1975  \\\n",
       "출생아수(명)           1,006,645  1,024,773  952,780  965,521  922,823  874,030   \n",
       "조출생률(인구1천명당 명)         31.2       31.2     28.4     28.3     26.6     24.8   \n",
       "합계출산율(가임여성1명당 명)      4.530      4.540    4.120    4.070    3.770    3.430   \n",
       "\n",
       "                     1976     1977     1978     1979     1980  \n",
       "출생아수(명)           796,331  825,339  750,728  862,669  862,835  \n",
       "조출생률(인구1천명당 명)       22.2     22.7     20.3     23.0     22.6  \n",
       "합계출산율(가임여성1명당 명)    3.000    2.990    2.640    2.900    2.820  "
      ]
     },
     "execution_count": 63,
     "metadata": {},
     "output_type": "execute_result"
    }
   ],
   "source": [
    "# index_col = 0 첫번째 컬럼을 index로 지정\n",
    "# skiprows: 상단부분 제외\n",
    "# nrows: rows 데이터 가져오기\n",
    "# usecols: 특정 컬럼 부분 가져오기\n",
    "\n",
    "df = pd.read_excel('20122022_출생.xlsx',skiprows=2,nrows=3,usecols='B:M',index_col=0)\n",
    "df.index.name = '제목'\n",
    "df.index"
   ]
  },
  {
   "cell_type": "code",
   "execution_count": 65,
   "metadata": {},
   "outputs": [
    {
     "data": {
      "text/plain": [
       "array(['출생아수(명)', '조출생률(인구1천명당\\xa0명)', '합계출산율(가임여성1명당\\xa0명)'],\n",
       "      dtype=object)"
      ]
     },
     "execution_count": 65,
     "metadata": {},
     "output_type": "execute_result"
    }
   ],
   "source": [
    "df.index.values"
   ]
  },
  {
   "cell_type": "code",
   "execution_count": 64,
   "metadata": {},
   "outputs": [
    {
     "data": {
      "text/plain": [
       "1970    1,006,645\n",
       "1971    1,024,773\n",
       "1972      952,780\n",
       "1973      965,521\n",
       "1974      922,823\n",
       "1975      874,030\n",
       "1976      796,331\n",
       "1977      825,339\n",
       "1978      750,728\n",
       "1979      862,669\n",
       "1980      862,835\n",
       "Name: 출생아수(명), dtype: object"
      ]
     },
     "execution_count": 64,
     "metadata": {},
     "output_type": "execute_result"
    }
   ],
   "source": [
    "df.loc['출생아수(명)'] # index 명 확인!! (df.index.values)"
   ]
  },
  {
   "cell_type": "code",
   "execution_count": 67,
   "metadata": {},
   "outputs": [],
   "source": [
    "df.rename(index={'합계출산율(가임여성1명당\\xa0명)':'합계출산율(가임여성1명당 명)'},inplace=True)"
   ]
  },
  {
   "cell_type": "code",
   "execution_count": 70,
   "metadata": {},
   "outputs": [
    {
     "data": {
      "text/html": [
       "<div>\n",
       "<style scoped>\n",
       "    .dataframe tbody tr th:only-of-type {\n",
       "        vertical-align: middle;\n",
       "    }\n",
       "\n",
       "    .dataframe tbody tr th {\n",
       "        vertical-align: top;\n",
       "    }\n",
       "\n",
       "    .dataframe thead th {\n",
       "        text-align: right;\n",
       "    }\n",
       "</style>\n",
       "<table border=\"1\" class=\"dataframe\">\n",
       "  <thead>\n",
       "    <tr style=\"text-align: right;\">\n",
       "      <th></th>\n",
       "      <th>1970</th>\n",
       "      <th>1971</th>\n",
       "      <th>1972</th>\n",
       "      <th>1973</th>\n",
       "      <th>1974</th>\n",
       "      <th>1975</th>\n",
       "      <th>1976</th>\n",
       "      <th>1977</th>\n",
       "      <th>1978</th>\n",
       "      <th>1979</th>\n",
       "      <th>1980</th>\n",
       "    </tr>\n",
       "  </thead>\n",
       "  <tbody>\n",
       "    <tr>\n",
       "      <th>출생아수(명)</th>\n",
       "      <td>1,006,645</td>\n",
       "      <td>1,024,773</td>\n",
       "      <td>952,780</td>\n",
       "      <td>965,521</td>\n",
       "      <td>922,823</td>\n",
       "      <td>874,030</td>\n",
       "      <td>796,331</td>\n",
       "      <td>825,339</td>\n",
       "      <td>750,728</td>\n",
       "      <td>862,669</td>\n",
       "      <td>862,835</td>\n",
       "    </tr>\n",
       "    <tr>\n",
       "      <th>조출생률(인구1천명당 명)</th>\n",
       "      <td>31.2</td>\n",
       "      <td>31.2</td>\n",
       "      <td>28.4</td>\n",
       "      <td>28.3</td>\n",
       "      <td>26.6</td>\n",
       "      <td>24.8</td>\n",
       "      <td>22.2</td>\n",
       "      <td>22.7</td>\n",
       "      <td>20.3</td>\n",
       "      <td>23.0</td>\n",
       "      <td>22.6</td>\n",
       "    </tr>\n",
       "    <tr>\n",
       "      <th>합계출산율(가임여성1명당 명)</th>\n",
       "      <td>4.530</td>\n",
       "      <td>4.540</td>\n",
       "      <td>4.120</td>\n",
       "      <td>4.070</td>\n",
       "      <td>3.770</td>\n",
       "      <td>3.430</td>\n",
       "      <td>3.000</td>\n",
       "      <td>2.990</td>\n",
       "      <td>2.640</td>\n",
       "      <td>2.900</td>\n",
       "      <td>2.820</td>\n",
       "    </tr>\n",
       "  </tbody>\n",
       "</table>\n",
       "</div>"
      ],
      "text/plain": [
       "                       1970       1971     1972     1973     1974     1975  \\\n",
       "출생아수(명)           1,006,645  1,024,773  952,780  965,521  922,823  874,030   \n",
       "조출생률(인구1천명당 명)         31.2       31.2     28.4     28.3     26.6     24.8   \n",
       "합계출산율(가임여성1명당 명)      4.530      4.540    4.120    4.070    3.770    3.430   \n",
       "\n",
       "                     1976     1977     1978     1979     1980  \n",
       "출생아수(명)           796,331  825,339  750,728  862,669  862,835  \n",
       "조출생률(인구1천명당 명)       22.2     22.7     20.3     23.0     22.6  \n",
       "합계출산율(가임여성1명당 명)    3.000    2.990    2.640    2.900    2.820  "
      ]
     },
     "execution_count": 70,
     "metadata": {},
     "output_type": "execute_result"
    }
   ],
   "source": [
    "df.rename(index={'조출생률(인구1천명당\\xa0명)':'조출생률(인구1천명당 명)'},inplace=True)\n",
    "df"
   ]
  },
  {
   "cell_type": "code",
   "execution_count": 72,
   "metadata": {},
   "outputs": [
    {
     "data": {
      "text/html": [
       "<div>\n",
       "<style scoped>\n",
       "    .dataframe tbody tr th:only-of-type {\n",
       "        vertical-align: middle;\n",
       "    }\n",
       "\n",
       "    .dataframe tbody tr th {\n",
       "        vertical-align: top;\n",
       "    }\n",
       "\n",
       "    .dataframe thead th {\n",
       "        text-align: right;\n",
       "    }\n",
       "</style>\n",
       "<table border=\"1\" class=\"dataframe\">\n",
       "  <thead>\n",
       "    <tr style=\"text-align: right;\">\n",
       "      <th></th>\n",
       "      <th>출생아수(명)</th>\n",
       "      <th>조출생률(인구1천명당 명)</th>\n",
       "      <th>합계출산율(가임여성1명당 명)</th>\n",
       "    </tr>\n",
       "  </thead>\n",
       "  <tbody>\n",
       "    <tr>\n",
       "      <th>1970</th>\n",
       "      <td>1,006,645</td>\n",
       "      <td>31.2</td>\n",
       "      <td>4.530</td>\n",
       "    </tr>\n",
       "    <tr>\n",
       "      <th>1971</th>\n",
       "      <td>1,024,773</td>\n",
       "      <td>31.2</td>\n",
       "      <td>4.540</td>\n",
       "    </tr>\n",
       "    <tr>\n",
       "      <th>1972</th>\n",
       "      <td>952,780</td>\n",
       "      <td>28.4</td>\n",
       "      <td>4.120</td>\n",
       "    </tr>\n",
       "    <tr>\n",
       "      <th>1973</th>\n",
       "      <td>965,521</td>\n",
       "      <td>28.3</td>\n",
       "      <td>4.070</td>\n",
       "    </tr>\n",
       "    <tr>\n",
       "      <th>1974</th>\n",
       "      <td>922,823</td>\n",
       "      <td>26.6</td>\n",
       "      <td>3.770</td>\n",
       "    </tr>\n",
       "    <tr>\n",
       "      <th>1975</th>\n",
       "      <td>874,030</td>\n",
       "      <td>24.8</td>\n",
       "      <td>3.430</td>\n",
       "    </tr>\n",
       "    <tr>\n",
       "      <th>1976</th>\n",
       "      <td>796,331</td>\n",
       "      <td>22.2</td>\n",
       "      <td>3.000</td>\n",
       "    </tr>\n",
       "    <tr>\n",
       "      <th>1977</th>\n",
       "      <td>825,339</td>\n",
       "      <td>22.7</td>\n",
       "      <td>2.990</td>\n",
       "    </tr>\n",
       "    <tr>\n",
       "      <th>1978</th>\n",
       "      <td>750,728</td>\n",
       "      <td>20.3</td>\n",
       "      <td>2.640</td>\n",
       "    </tr>\n",
       "    <tr>\n",
       "      <th>1979</th>\n",
       "      <td>862,669</td>\n",
       "      <td>23.0</td>\n",
       "      <td>2.900</td>\n",
       "    </tr>\n",
       "    <tr>\n",
       "      <th>1980</th>\n",
       "      <td>862,835</td>\n",
       "      <td>22.6</td>\n",
       "      <td>2.820</td>\n",
       "    </tr>\n",
       "  </tbody>\n",
       "</table>\n",
       "</div>"
      ],
      "text/plain": [
       "        출생아수(명) 조출생률(인구1천명당 명) 합계출산율(가임여성1명당 명)\n",
       "1970  1,006,645           31.2            4.530\n",
       "1971  1,024,773           31.2            4.540\n",
       "1972    952,780           28.4            4.120\n",
       "1973    965,521           28.3            4.070\n",
       "1974    922,823           26.6            3.770\n",
       "1975    874,030           24.8            3.430\n",
       "1976    796,331           22.2            3.000\n",
       "1977    825,339           22.7            2.990\n",
       "1978    750,728           20.3            2.640\n",
       "1979    862,669           23.0            2.900\n",
       "1980    862,835           22.6            2.820"
      ]
     },
     "execution_count": 72,
     "metadata": {},
     "output_type": "execute_result"
    }
   ],
   "source": [
    "df = df.T #rows, columns축 변경\n",
    "df"
   ]
  },
  {
   "cell_type": "code",
   "execution_count": null,
   "metadata": {},
   "outputs": [],
   "source": []
  },
  {
   "cell_type": "code",
   "execution_count": null,
   "metadata": {},
   "outputs": [],
   "source": []
  },
  {
   "cell_type": "code",
   "execution_count": null,
   "metadata": {},
   "outputs": [],
   "source": []
  },
  {
   "cell_type": "code",
   "execution_count": null,
   "metadata": {},
   "outputs": [],
   "source": []
  }
 ],
 "metadata": {
  "kernelspec": {
   "display_name": "Python 3",
   "language": "python",
   "name": "python3"
  },
  "language_info": {
   "codemirror_mode": {
    "name": "ipython",
    "version": 3
   },
   "file_extension": ".py",
   "mimetype": "text/x-python",
   "name": "python",
   "nbconvert_exporter": "python",
   "pygments_lexer": "ipython3",
   "version": "3.12.0"
  }
 },
 "nbformat": 4,
 "nbformat_minor": 2
}
