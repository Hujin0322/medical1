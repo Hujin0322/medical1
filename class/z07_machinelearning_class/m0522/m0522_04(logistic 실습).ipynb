{
 "cells": [
  {
   "cell_type": "code",
   "execution_count": 3,
   "metadata": {},
   "outputs": [],
   "source": [
    "# from sklearn import svm,metrics\n",
    "# from sklearn.neighbors import KNeighborsClassifier # 분류\n",
    "# from sklearn.neighbors import KNeighborsRegressor  # 회귀 - 예측\n",
    "from sklearn.linear_model import LinearRegression    # 선형 회귀\n",
    "from sklearn.preprocessing import PolynomialFeatures  # 다항특성 만들어주는 라이브러리\n",
    "from sklearn.model_selection import train_test_split \n",
    "import pandas as pd\n",
    "import numpy as np\n",
    "import random\n",
    "import matplotlib.pyplot as plt\n",
    "import matplotlib\n",
    "\n",
    "matplotlib.rcParams['font.family'] = 'Malgun Gothic' # 한글 설정\n",
    "matplotlib.rcParams['font.size'] = 10 #글자 크기\n",
    "matplotlib.rcParams['axes.unicode_minus'] = False"
   ]
  },
  {
   "cell_type": "code",
   "execution_count": 4,
   "metadata": {},
   "outputs": [],
   "source": [
    "# [ 도미 ]\n",
    "bream_length = [25.4, 26.3, 26.5, 29.0, 29.0, 29.7, 29.7, 30.0, 30.0, 30.7, 31.0, 31.0, 31.5, 32.0, 32.0, 32.0, 33.0, 33.0,\n",
    "33.5, 33.5, 34.0, 34.0, 34.5, 35.0, 35.0, 35.0, 35.0, 36.0, 36.0, 37.0, 38.5, 38.5, 39.5, 41.0, 41.0]\n",
    "bream_weight = [242.0, 290.0, 340.0, 363.0, 430.0, 450.0, 500.0, 390.0, 450.0, 500.0, 475.0, 500.0, 500.0, 340.0, 600.0, 600.0, 700.0, 700.0,\n",
    "610.0, 650.0, 575.0, 685.0, 620.0, 680.0, 700.0, 725.0, 720.0, 714.0, 850.0, 1000.0, 920.0, 955.0, 925.0, 975.0, 950.0]\n",
    "# [ 빙어 ]\n",
    "smelt_length = [9.8, 10.5, 10.6, 11.0, 11.2, 11.3, 11.8, 11.8, 12.0, 12.2, 12.4, 13.0, 14.3, 15.0]\n",
    "smelt_weight = [6.7, 7.5, 7.0, 9.7, 9.8, 8.7, 10.0, 9.9, 9.8, 12.2, 13.4, 12.2, 19.7, 19.9]"
   ]
  },
  {
   "cell_type": "code",
   "execution_count": null,
   "metadata": {},
   "outputs": [],
   "source": [
    "# 1. 데이터 전처리\n",
    "# 로지스틱 회귀를 적용해 도미,빙어 test 세트 5개 분류"
   ]
  },
  {
   "cell_type": "code",
   "execution_count": null,
   "metadata": {},
   "outputs": [],
   "source": [
    "a_length = bream_length+smelt_length\n",
    "a_weight =  bream_weight+smelt_weight\n",
    "a_target = [\"도미\"]*35+['빙어']*14\n",
    "\n",
    "df = pd.DataFrame([a_length,a_weight,a_target])\n",
    "df = df.T\n",
    "df\n",
    "\n",
    "target = df[2].to_numpy()\n",
    "target\n",
    "\n",
    "data = df.iloc[:,:-1].to_numpy()\n",
    "data"
   ]
  },
  {
   "cell_type": "code",
   "execution_count": 55,
   "metadata": {},
   "outputs": [],
   "source": [
    "length = np.array(bream_length+smelt_length)\n",
    "weight = np.array(bream_weight+smelt_weight)\n",
    "data = np.column_stack([length,weight])\n",
    "target = np.array(['도미']*35+['빙어']*14)"
   ]
  },
  {
   "cell_type": "code",
   "execution_count": 57,
   "metadata": {},
   "outputs": [
    {
     "name": "stdout",
     "output_type": "stream",
     "text": [
      "['도미']\n",
      "['도미']\n",
      "['빙어']\n"
     ]
    }
   ],
   "source": [
    "train_input, test_input, train_target, test_target = train_test_split(data, target, random_state=42)\n",
    "\n",
    "# 표준화\n",
    "from sklearn.preprocessing import StandardScaler\n",
    "ss = StandardScaler()\n",
    "ss.fit(train_input)\n",
    "train_scaled = ss.transform(train_input)\n",
    "test_scaled = ss.transform(test_input)\n",
    "new = ss.transform([[25,150]])\n",
    "new2 = ss.transform([[30,600]])\n",
    "new3 = ss.transform([[9.8,6.7]])\n",
    "\n",
    "from sklearn.linear_model import LogisticRegression\n",
    "lr = LogisticRegression()\n",
    "lr.fit(train_scaled,train_target)\n",
    "\n",
    "predict = lr.predict(new)\n",
    "print(predict)\n",
    "predict = lr.predict(new2)\n",
    "print(predict)\n",
    "predict = lr.predict(new3)\n",
    "print(predict)"
   ]
  }
 ],
 "metadata": {
  "kernelspec": {
   "display_name": "Python 3",
   "language": "python",
   "name": "python3"
  },
  "language_info": {
   "codemirror_mode": {
    "name": "ipython",
    "version": 3
   },
   "file_extension": ".py",
   "mimetype": "text/x-python",
   "name": "python",
   "nbconvert_exporter": "python",
   "pygments_lexer": "ipython3",
   "version": "3.12.0"
  }
 },
 "nbformat": 4,
 "nbformat_minor": 2
}
