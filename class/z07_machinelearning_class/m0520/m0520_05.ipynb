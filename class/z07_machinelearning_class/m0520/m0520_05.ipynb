{
 "cells": [
  {
   "cell_type": "code",
   "execution_count": 2,
   "metadata": {},
   "outputs": [],
   "source": [
    "from sklearn import svm,metrics\n",
    "from sklearn.neighbors import KNeighborsClassifier\n",
    "from sklearn.model_selection import train_test_split \n",
    "import pandas as pd\n",
    "import numpy as np\n",
    "import random\n",
    "import matplotlib.pyplot as plt\n",
    "import matplotlib\n",
    "import glob, os.path, re\n",
    "\n",
    "matplotlib.rcParams['font.family'] = 'Malgun Gothic' # 한글 설정\n",
    "matplotlib.rcParams['font.size'] = 10 #글자 크기\n",
    "matplotlib.rcParams['axes.unicode_minus'] = False"
   ]
  },
  {
   "cell_type": "code",
   "execution_count": 3,
   "metadata": {},
   "outputs": [],
   "source": [
    "# 정규표현식\n",
    "# 데이터 입력받아, 길이가 6자리, 첫글자가 A 입력 시 \n",
    "# 제대로 입력되었습니다.\n",
    "# 다시 입력하세요라고 출력되게끔 구현\n",
    "# 제대로 입력되어야지만, 프로그램 종료."
   ]
  },
  {
   "cell_type": "code",
   "execution_count": 4,
   "metadata": {},
   "outputs": [],
   "source": [
    "# while True:\n",
    "#     data = input(\"데이터를 입력하세요. >> \")\n",
    "#     if len(data) == 6 and data[0]=='a':\n",
    "#         print('제대로 입력되었습니다.')\n",
    "#         break\n",
    "#     else:\n",
    "#         print('다시 입력하세요.')\n",
    "#         continue"
   ]
  },
  {
   "cell_type": "code",
   "execution_count": 5,
   "metadata": {},
   "outputs": [],
   "source": [
    "# 데이터 입력받아, 길이가 6자리, 첫글자가 1 ,숫자만 입력 가능\n",
    "# 제대로 입력되었습니다.\n",
    "# 다시 입력하세요라고 출력되게끔 구현\n",
    "# 제대로 입력되어야지만, 프로그램 종료."
   ]
  },
  {
   "cell_type": "code",
   "execution_count": 6,
   "metadata": {},
   "outputs": [],
   "source": [
    "# while True:\n",
    "#     data = input(\"데이터를 입력하세요. >> \")\n",
    "#     if len(data) == 6 and data[0]=='1' and data.isdigit():\n",
    "#         print('제대로 입력되었습니다.')\n",
    "#         break\n",
    "#     else:\n",
    "#         print('다시 입력하세요.')\n",
    "#         continue"
   ]
  },
  {
   "cell_type": "code",
   "execution_count": 7,
   "metadata": {},
   "outputs": [
    {
     "name": "stdout",
     "output_type": "stream",
     "text": [
      "매칭 되지 않았습니다.\n"
     ]
    }
   ],
   "source": [
    "import re\n",
    "# 정규표현식\n",
    "p = re.compile(\"ca.e\") # 정규표현식 지정 (.=한글자)\n",
    "word = 'cafe' # 매칭O\n",
    "word2 = 'care' # 매칭O\n",
    "word3 = 'cark' # 매칭X\n",
    "\n",
    "if p.match(word3):\n",
    "    print(\"매칭이 되었습니다.\")\n",
    "else:\n",
    "    print(\"매칭 되지 않았습니다.\")"
   ]
  },
  {
   "cell_type": "code",
   "execution_count": 8,
   "metadata": {},
   "outputs": [
    {
     "name": "stdout",
     "output_type": "stream",
     "text": [
      "매칭O desk 입니다\n"
     ]
    }
   ],
   "source": [
    "# ^(de): 첫 시작이 de로 시작되어야 함.\n",
    "word = 'desk 입니다' # 매칭O\n",
    "word2 = 'adesk 입니다' # 매칭X\n",
    "if re.match(r'^(de)',word): # 'de'로 시작되어야 함.\n",
    "    print('매칭O',word)\n",
    "else:\n",
    "    print('매칭X', word)"
   ]
  },
  {
   "cell_type": "code",
   "execution_count": 12,
   "metadata": {},
   "outputs": [
    {
     "name": "stdout",
     "output_type": "stream",
     "text": [
      "매칭O case\n"
     ]
    }
   ],
   "source": [
    "# (se)$: se로 끝나야 함.\n",
    "word = 'case' # 매칭O\n",
    "word2 = 'casee' # 매칭X\n",
    "p = re.compile(\"(se$)\")\n",
    "if p.search(word): # 'se'로 끝나야 함.\n",
    "    print('매칭O',word)\n",
    "else:\n",
    "    print('매칭X', word)"
   ]
  },
  {
   "cell_type": "code",
   "execution_count": 20,
   "metadata": {},
   "outputs": [
    {
     "name": "stdout",
     "output_type": "stream",
     "text": [
      "매칭O abndjf\n"
     ]
    }
   ],
   "source": [
    "# {3}: 3자리가 들어와야 True\n",
    "# {2,3}: 2 ~ 3자리가 들어와야 True\n",
    "# ^: 시작\n",
    "# $: 끝\n",
    "# [ ] : [] 안에 있는 글자만 True\n",
    "# a-z = abcdefg ..... xyz\n",
    "# A-Z = ABCD...Z\n",
    "# 0-9 = 012...9\n",
    "# ㄱ-ㅎ (기-힣) = 국문만 가능\n",
    "\n",
    "# 첫 글자가 a이면서, 영문 소문자가 5개만 들어올 수 있음.\n",
    "word = 'abndjf'\n",
    "if re.match(r'^a{1}[a-z]{5}$',word): #첫 글자는 a, 뒤에 5글자는 영문만 가능\n",
    "    print(\"매칭O\", word)\n",
    "else: print('매칭X,',word)"
   ]
  },
  {
   "cell_type": "code",
   "execution_count": 24,
   "metadata": {},
   "outputs": [
    {
     "name": "stdout",
     "output_type": "stream",
     "text": [
      "매칭O 010-1234-4567\n"
     ]
    }
   ],
   "source": [
    "word = '010-1234-4567'\n",
    "if re.search('[0-9]{2,3}-[0-9]{4}-[0-9]{4}',word):\n",
    "    print('매칭O', word)\n",
    "else: print('매칭X,',word)"
   ]
  }
 ],
 "metadata": {
  "kernelspec": {
   "display_name": "Python 3",
   "language": "python",
   "name": "python3"
  },
  "language_info": {
   "codemirror_mode": {
    "name": "ipython",
    "version": 3
   },
   "file_extension": ".py",
   "mimetype": "text/x-python",
   "name": "python",
   "nbconvert_exporter": "python",
   "pygments_lexer": "ipython3",
   "version": "3.12.0"
  }
 },
 "nbformat": 4,
 "nbformat_minor": 2
}
