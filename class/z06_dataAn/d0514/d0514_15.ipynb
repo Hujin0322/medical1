{
 "cells": [
  {
   "cell_type": "code",
   "execution_count": 5,
   "metadata": {},
   "outputs": [],
   "source": [
    "import matplotlib.pyplot as plt\n",
    "import matplotlib\n",
    "import numpy as np\n",
    "import pandas as pd\n",
    "matplotlib.rcParams['font.family'] = 'Malgun Gothic' # 한글 설정\n",
    "matplotlib.rcParams['font.size'] = 10 #글자 크기\n",
    "matplotlib.rcParams['axes.unicode_minus'] = False"
   ]
  },
  {
   "cell_type": "code",
   "execution_count": 6,
   "metadata": {},
   "outputs": [
    {
     "data": {
      "text/html": [
       "<div>\n",
       "<style scoped>\n",
       "    .dataframe tbody tr th:only-of-type {\n",
       "        vertical-align: middle;\n",
       "    }\n",
       "\n",
       "    .dataframe tbody tr th {\n",
       "        vertical-align: top;\n",
       "    }\n",
       "\n",
       "    .dataframe thead th {\n",
       "        text-align: right;\n",
       "    }\n",
       "</style>\n",
       "<table border=\"1\" class=\"dataframe\">\n",
       "  <thead>\n",
       "    <tr style=\"text-align: right;\">\n",
       "      <th></th>\n",
       "      <th>행정기관코드</th>\n",
       "      <th>남 인구수</th>\n",
       "      <th>연령구간인구수</th>\n",
       "      <th>0~4세</th>\n",
       "      <th>5~9세</th>\n",
       "      <th>10~14세</th>\n",
       "      <th>15~19세</th>\n",
       "      <th>20~24세</th>\n",
       "      <th>25~29세</th>\n",
       "      <th>30~34세</th>\n",
       "      <th>...</th>\n",
       "      <th>55~59세.7</th>\n",
       "      <th>60~64세.7</th>\n",
       "      <th>65~69세.7</th>\n",
       "      <th>70~74세.7</th>\n",
       "      <th>75~79세.7</th>\n",
       "      <th>80~84세.7</th>\n",
       "      <th>85~89세.7</th>\n",
       "      <th>90~94세.7</th>\n",
       "      <th>95~99세.7</th>\n",
       "      <th>100세 이상.7</th>\n",
       "    </tr>\n",
       "    <tr>\n",
       "      <th>행정기관</th>\n",
       "      <th></th>\n",
       "      <th></th>\n",
       "      <th></th>\n",
       "      <th></th>\n",
       "      <th></th>\n",
       "      <th></th>\n",
       "      <th></th>\n",
       "      <th></th>\n",
       "      <th></th>\n",
       "      <th></th>\n",
       "      <th></th>\n",
       "      <th></th>\n",
       "      <th></th>\n",
       "      <th></th>\n",
       "      <th></th>\n",
       "      <th></th>\n",
       "      <th></th>\n",
       "      <th></th>\n",
       "      <th></th>\n",
       "      <th></th>\n",
       "      <th></th>\n",
       "    </tr>\n",
       "  </thead>\n",
       "  <tbody>\n",
       "    <tr>\n",
       "      <th>전국</th>\n",
       "      <td>0</td>\n",
       "      <td>25631538</td>\n",
       "      <td>25631538</td>\n",
       "      <td>726460</td>\n",
       "      <td>1072653</td>\n",
       "      <td>1211077</td>\n",
       "      <td>1211949</td>\n",
       "      <td>1524378</td>\n",
       "      <td>1823908</td>\n",
       "      <td>1737714</td>\n",
       "      <td>...</td>\n",
       "      <td>2019475</td>\n",
       "      <td>2151423</td>\n",
       "      <td>1674243</td>\n",
       "      <td>1183522</td>\n",
       "      <td>914393</td>\n",
       "      <td>808412</td>\n",
       "      <td>471121</td>\n",
       "      <td>181497</td>\n",
       "      <td>41465</td>\n",
       "      <td>7089</td>\n",
       "    </tr>\n",
       "  </tbody>\n",
       "</table>\n",
       "<p>1 rows × 185 columns</p>\n",
       "</div>"
      ],
      "text/plain": [
       "      행정기관코드     남 인구수   연령구간인구수    0~4세     5~9세   10~14세   15~19세   20~24세  \\\n",
       "행정기관                                                                           \n",
       "전국         0  25631538  25631538  726460  1072653  1211077  1211949  1524378   \n",
       "\n",
       "       25~29세   30~34세  ...  55~59세.7  60~64세.7  65~69세.7  70~74세.7  75~79세.7  \\\n",
       "행정기관                    ...                                                     \n",
       "전국    1823908  1737714  ...   2019475   2151423   1674243   1183522    914393   \n",
       "\n",
       "      80~84세.7  85~89세.7  90~94세.7  95~99세.7  100세 이상.7  \n",
       "행정기관                                                     \n",
       "전국      808412    471121    181497     41465       7089  \n",
       "\n",
       "[1 rows x 185 columns]"
      ]
     },
     "execution_count": 6,
     "metadata": {},
     "output_type": "execute_result"
    }
   ],
   "source": [
    "df = pd.read_excel('../z20_data/xlsx/20230104_연령별인구현황2.xlsx',skiprows=3,index_col='행정기관',thousands=',')\n",
    "df.head(1)"
   ]
  },
  {
   "cell_type": "code",
   "execution_count": 7,
   "metadata": {},
   "outputs": [],
   "source": [
    "a1 = df.loc['전국  ']['0~4세':'10~14세'].sum() + df.loc['전국  ']['0~4세.1':'10~14세.1'].sum()\n",
    "b1 = df.loc['전국  ']['15~19세':'60~64세'].sum() + df.loc['전국  ']['15~19세.1':'60~64세.1'].sum()\n",
    "c1 = df.loc['전국  ']['65~69세':'100세 이상'].sum() + df.loc['전국  ']['65~69세.1':'100세 이상.1'].sum()\n",
    "\n",
    "a2 = df.loc['전국  ']['0~4세.2':'10~14세.2'].sum() + df.loc['전국  ']['0~4세.3':'10~14세.3'].sum()\n",
    "b2 = df.loc['전국  ']['15~19세.2':'60~64세.2'].sum() + df.loc['전국  ']['15~19세.3':'60~64세.3'].sum()\n",
    "c2 = df.loc['전국  ']['65~69세.2':'100세 이상.2'].sum() + df.loc['전국  ']['65~69세.3':'100세 이상.3'].sum()\n",
    "\n",
    "a3 = df.loc['전국  ']['0~4세.4':'10~14세.4'].sum() + df.loc['전국  ']['0~4세.5':'10~14세.5'].sum()\n",
    "b3 = df.loc['전국  ']['15~19세.4':'60~64세.4'].sum() + df.loc['전국  ']['15~19세.5':'60~64세.5'].sum()\n",
    "c3 = df.loc['전국  ']['65~69세.4':'100세 이상.4'].sum() + df.loc['전국  ']['65~69세.5':'100세 이상.5'].sum()\n",
    "\n",
    "a4 = df.loc['전국  ']['0~4세.6':'10~14세.6'].sum() + df.loc['전국  ']['0~4세.7':'10~14세.7'].sum()\n",
    "b4 = df.loc['전국  ']['15~19세.6':'60~64세.6'].sum() + df.loc['전국  ']['15~19세.7':'60~64세.7'].sum()\n",
    "c4 = df.loc['전국  ']['65~69세.6':'100세 이상.6'].sum() + df.loc['전국  ']['65~69세.7':'100세 이상.7'].sum()"
   ]
  },
  {
   "cell_type": "code",
   "execution_count": 8,
   "metadata": {},
   "outputs": [
    {
     "data": {
      "text/plain": [
       "numpy.int64"
      ]
     },
     "execution_count": 8,
     "metadata": {},
     "output_type": "execute_result"
    }
   ],
   "source": [
    "type(c4)"
   ]
  },
  {
   "cell_type": "code",
   "execution_count": 9,
   "metadata": {},
   "outputs": [
    {
     "data": {
      "image/png": "[encoded data removed]",
      "text/plain": [
       "<Figure size 640x480 with 1 Axes>"
      ]
     },
     "metadata": {},
     "output_type": "display_data"
    }
   ],
   "source": [
    "x = ['2023년 01월','2023년 02월','2023년 03월','2023년 04월']\n",
    "y1 = [a1,a2,a3,a4]\n",
    "y2 = [b1,b2,b3,b4]\n",
    "y3 = [c1,c2,c3,c4]\n",
    "\n",
    "plt.bar(x,y1,label='0~14세')\n",
    "plt.bar(x,y2,bottom=y1,label='15~64세')\n",
    "plt.bar(x,y3,bottom=y2,label='65세이상')\n",
    "\n",
    "for i, txt in enumerate(y1):\n",
    "    plt.text(x[i],y1[i],txt,ha='center')\n",
    "    \n",
    "for i, txt in enumerate(y2):\n",
    "    plt.text(x[i],y2[i],txt,ha='center')\n",
    "    \n",
    "for i, txt in enumerate(y2):\n",
    "    plt.text(x[i],y2[i]+y3[i],txt,ha='center')\n",
    "    \n",
    "plt.ylim(0,60000000)\n",
    "plt.legend(loc='upper right')\n",
    "plt.title('인구수')\n",
    "plt.show()"
   ]
  }
 ],
 "metadata": {
  "kernelspec": {
   "display_name": "Python 3",
   "language": "python",
   "name": "python3"
  },
  "language_info": {
   "codemirror_mode": {
    "name": "ipython",
    "version": 3
   },
   "file_extension": ".py",
   "mimetype": "text/x-python",
   "name": "python",
   "nbconvert_exporter": "python",
   "pygments_lexer": "ipython3",
   "version": "3.12.0"
  }
 },
 "nbformat": 4,
 "nbformat_minor": 2
}
